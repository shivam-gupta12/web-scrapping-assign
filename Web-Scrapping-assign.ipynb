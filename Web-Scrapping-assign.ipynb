{
 "cells": [
  {
   "cell_type": "markdown",
   "id": "510012da-9c50-480d-a4b6-7a308a805764",
   "metadata": {},
   "source": [
    "# question 1\n",
    "Web scraping, web harvesting, or web data extraction is data scraping used for extracting data from websites.\n",
    "\n",
    "Web Scraping is the process of automatically downloading data displayed by websites to your computer or database. A Web Scraping Software can crawl multiple pages within a website and automate the tedious task of manually copying and pasting the data displayed. The data is usually downloaded in a spreadsheet (tabular) format.\n",
    "\n",
    "Web scraping is used in a variety of digital businesses that rely on data harvesting. Legitimate use cases include: Search engine bots crawling a site, analyzing its content and then ranking it. Price comparison sites deploying bots to auto-fetch prices and product descriptions for allied seller websites."
   ]
  },
  {
   "cell_type": "markdown",
   "id": "acbfeab7-4150-4cc1-ab9f-a7baedef63f0",
   "metadata": {},
   "source": [
    "# question 2\n",
    "\n",
    "Data Scraping Techniques\n",
    "\n",
    "HTML Parsing\n",
    "\n",
    "DOM Parsing\n",
    "\n",
    "Vertical Aggregation\n",
    "\n",
    "XPath\n",
    "\n",
    "Google Sheets\n"
   ]
  },
  {
   "cell_type": "markdown",
   "id": "4c95b370-c5f4-4606-8583-bc6086a2f5d7",
   "metadata": {},
   "source": [
    "# question 3\n",
    "What is Beautiful Soup? Beautiful Soup provides simple methods for navigating, searching, and modifying a parse tree in HTML, XML files. It transforms a complex HTML document into a tree of Python objects. It also automatically converts the document to Unicode, so you don't have to think about encodings."
   ]
  },
  {
   "cell_type": "markdown",
   "id": "8c767b8a-525c-4499-8cc4-047488ef92e0",
   "metadata": {},
   "source": [
    "# question 4\n",
    "Flask is a lightweight framework to build websites. We'll use this to parse our collected data and display it as HTML in a new HTML file. The requests module allows us to send http requests to the website we want to scrape. The first line imports the Flask class and the render_template method from the flask library."
   ]
  },
  {
   "cell_type": "markdown",
   "id": "e89dcc72-f228-4b83-bd35-2294d2c72ac4",
   "metadata": {},
   "source": [
    "# question 5 \n",
    "The aws service used in this project is AWS cloud which is used for deployment of the project on web."
   ]
  },
  {
   "cell_type": "code",
   "execution_count": null,
   "id": "573f2134-5b5c-44ec-8202-aabb0621cd32",
   "metadata": {},
   "outputs": [],
   "source": []
  }
 ],
 "metadata": {
  "kernelspec": {
   "display_name": "Python 3 (ipykernel)",
   "language": "python",
   "name": "python3"
  },
  "language_info": {
   "codemirror_mode": {
    "name": "ipython",
    "version": 3
   },
   "file_extension": ".py",
   "mimetype": "text/x-python",
   "name": "python",
   "nbconvert_exporter": "python",
   "pygments_lexer": "ipython3",
   "version": "3.10.8"
  }
 },
 "nbformat": 4,
 "nbformat_minor": 5
}
